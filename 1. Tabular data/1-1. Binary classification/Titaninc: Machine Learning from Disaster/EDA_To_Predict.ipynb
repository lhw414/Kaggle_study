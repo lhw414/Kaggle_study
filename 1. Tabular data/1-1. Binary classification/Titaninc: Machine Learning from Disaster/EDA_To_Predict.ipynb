{
 "cells": [
  {
   "cell_type": "code",
   "execution_count": 1,
   "id": "d3822bc3",
   "metadata": {
    "_cell_guid": "b1076dfc-b9ad-4769-8c92-a6c4dae69d19",
    "_uuid": "8f2839f25d086af736a60e9eeb907d3b93b6e0e5",
    "execution": {
     "iopub.execute_input": "2022-07-15T18:22:22.642238Z",
     "iopub.status.busy": "2022-07-15T18:22:22.641823Z",
     "iopub.status.idle": "2022-07-15T18:22:23.712903Z",
     "shell.execute_reply": "2022-07-15T18:22:23.711512Z"
    },
    "papermill": {
     "duration": 1.079885,
     "end_time": "2022-07-15T18:22:23.715118",
     "exception": false,
     "start_time": "2022-07-15T18:22:22.635233",
     "status": "completed"
    },
    "tags": []
   },
   "outputs": [],
   "source": [
    "import numpy as np\n",
    "import pandas as pd\n",
    "import matplotlib.pyplot as plt\n",
    "import seaborn as sns\n",
    "\n",
    "plt.style.use(\"fivethirtyeight\")\n",
    "import warnings\n",
    "warnings.filterwarnings('ignore')\n",
    "%matplotlib inline"
   ]
  },
  {
   "cell_type": "code",
   "execution_count": 2,
   "id": "4fda6e9c",
   "metadata": {
    "execution": {
     "iopub.execute_input": "2022-07-15T18:22:23.723005Z",
     "iopub.status.busy": "2022-07-15T18:22:23.722173Z",
     "iopub.status.idle": "2022-07-15T18:22:23.744860Z",
     "shell.execute_reply": "2022-07-15T18:22:23.743969Z"
    },
    "papermill": {
     "duration": 0.028738,
     "end_time": "2022-07-15T18:22:23.747041",
     "exception": false,
     "start_time": "2022-07-15T18:22:23.718303",
     "status": "completed"
    },
    "tags": []
   },
   "outputs": [],
   "source": [
    "data = pd.read_csv(\"../input/titanic/train.csv\")"
   ]
  },
  {
   "cell_type": "code",
   "execution_count": 3,
   "id": "18d66989",
   "metadata": {
    "execution": {
     "iopub.execute_input": "2022-07-15T18:22:23.754965Z",
     "iopub.status.busy": "2022-07-15T18:22:23.754114Z",
     "iopub.status.idle": "2022-07-15T18:22:23.777225Z",
     "shell.execute_reply": "2022-07-15T18:22:23.776150Z"
    },
    "papermill": {
     "duration": 0.029678,
     "end_time": "2022-07-15T18:22:23.779718",
     "exception": false,
     "start_time": "2022-07-15T18:22:23.750040",
     "status": "completed"
    },
    "tags": []
   },
   "outputs": [
    {
     "data": {
      "text/html": [
       "<div>\n",
       "<style scoped>\n",
       "    .dataframe tbody tr th:only-of-type {\n",
       "        vertical-align: middle;\n",
       "    }\n",
       "\n",
       "    .dataframe tbody tr th {\n",
       "        vertical-align: top;\n",
       "    }\n",
       "\n",
       "    .dataframe thead th {\n",
       "        text-align: right;\n",
       "    }\n",
       "</style>\n",
       "<table border=\"1\" class=\"dataframe\">\n",
       "  <thead>\n",
       "    <tr style=\"text-align: right;\">\n",
       "      <th></th>\n",
       "      <th>PassengerId</th>\n",
       "      <th>Survived</th>\n",
       "      <th>Pclass</th>\n",
       "      <th>Name</th>\n",
       "      <th>Sex</th>\n",
       "      <th>Age</th>\n",
       "      <th>SibSp</th>\n",
       "      <th>Parch</th>\n",
       "      <th>Ticket</th>\n",
       "      <th>Fare</th>\n",
       "      <th>Cabin</th>\n",
       "      <th>Embarked</th>\n",
       "    </tr>\n",
       "  </thead>\n",
       "  <tbody>\n",
       "    <tr>\n",
       "      <th>0</th>\n",
       "      <td>1</td>\n",
       "      <td>0</td>\n",
       "      <td>3</td>\n",
       "      <td>Braund, Mr. Owen Harris</td>\n",
       "      <td>male</td>\n",
       "      <td>22.0</td>\n",
       "      <td>1</td>\n",
       "      <td>0</td>\n",
       "      <td>A/5 21171</td>\n",
       "      <td>7.2500</td>\n",
       "      <td>NaN</td>\n",
       "      <td>S</td>\n",
       "    </tr>\n",
       "    <tr>\n",
       "      <th>1</th>\n",
       "      <td>2</td>\n",
       "      <td>1</td>\n",
       "      <td>1</td>\n",
       "      <td>Cumings, Mrs. John Bradley (Florence Briggs Th...</td>\n",
       "      <td>female</td>\n",
       "      <td>38.0</td>\n",
       "      <td>1</td>\n",
       "      <td>0</td>\n",
       "      <td>PC 17599</td>\n",
       "      <td>71.2833</td>\n",
       "      <td>C85</td>\n",
       "      <td>C</td>\n",
       "    </tr>\n",
       "    <tr>\n",
       "      <th>2</th>\n",
       "      <td>3</td>\n",
       "      <td>1</td>\n",
       "      <td>3</td>\n",
       "      <td>Heikkinen, Miss. Laina</td>\n",
       "      <td>female</td>\n",
       "      <td>26.0</td>\n",
       "      <td>0</td>\n",
       "      <td>0</td>\n",
       "      <td>STON/O2. 3101282</td>\n",
       "      <td>7.9250</td>\n",
       "      <td>NaN</td>\n",
       "      <td>S</td>\n",
       "    </tr>\n",
       "    <tr>\n",
       "      <th>3</th>\n",
       "      <td>4</td>\n",
       "      <td>1</td>\n",
       "      <td>1</td>\n",
       "      <td>Futrelle, Mrs. Jacques Heath (Lily May Peel)</td>\n",
       "      <td>female</td>\n",
       "      <td>35.0</td>\n",
       "      <td>1</td>\n",
       "      <td>0</td>\n",
       "      <td>113803</td>\n",
       "      <td>53.1000</td>\n",
       "      <td>C123</td>\n",
       "      <td>S</td>\n",
       "    </tr>\n",
       "    <tr>\n",
       "      <th>4</th>\n",
       "      <td>5</td>\n",
       "      <td>0</td>\n",
       "      <td>3</td>\n",
       "      <td>Allen, Mr. William Henry</td>\n",
       "      <td>male</td>\n",
       "      <td>35.0</td>\n",
       "      <td>0</td>\n",
       "      <td>0</td>\n",
       "      <td>373450</td>\n",
       "      <td>8.0500</td>\n",
       "      <td>NaN</td>\n",
       "      <td>S</td>\n",
       "    </tr>\n",
       "  </tbody>\n",
       "</table>\n",
       "</div>"
      ],
      "text/plain": [
       "   PassengerId  Survived  Pclass  \\\n",
       "0            1         0       3   \n",
       "1            2         1       1   \n",
       "2            3         1       3   \n",
       "3            4         1       1   \n",
       "4            5         0       3   \n",
       "\n",
       "                                                Name     Sex   Age  SibSp  \\\n",
       "0                            Braund, Mr. Owen Harris    male  22.0      1   \n",
       "1  Cumings, Mrs. John Bradley (Florence Briggs Th...  female  38.0      1   \n",
       "2                             Heikkinen, Miss. Laina  female  26.0      0   \n",
       "3       Futrelle, Mrs. Jacques Heath (Lily May Peel)  female  35.0      1   \n",
       "4                           Allen, Mr. William Henry    male  35.0      0   \n",
       "\n",
       "   Parch            Ticket     Fare Cabin Embarked  \n",
       "0      0         A/5 21171   7.2500   NaN        S  \n",
       "1      0          PC 17599  71.2833   C85        C  \n",
       "2      0  STON/O2. 3101282   7.9250   NaN        S  \n",
       "3      0            113803  53.1000  C123        S  \n",
       "4      0            373450   8.0500   NaN        S  "
      ]
     },
     "execution_count": 3,
     "metadata": {},
     "output_type": "execute_result"
    }
   ],
   "source": [
    "data.head()"
   ]
  },
  {
   "cell_type": "code",
   "execution_count": 4,
   "id": "0079bb3e",
   "metadata": {
    "execution": {
     "iopub.execute_input": "2022-07-15T18:22:23.790866Z",
     "iopub.status.busy": "2022-07-15T18:22:23.790552Z",
     "iopub.status.idle": "2022-07-15T18:22:23.798693Z",
     "shell.execute_reply": "2022-07-15T18:22:23.798009Z"
    },
    "papermill": {
     "duration": 0.016161,
     "end_time": "2022-07-15T18:22:23.800888",
     "exception": false,
     "start_time": "2022-07-15T18:22:23.784727",
     "status": "completed"
    },
    "tags": []
   },
   "outputs": [
    {
     "data": {
      "text/plain": [
       "PassengerId      0\n",
       "Survived         0\n",
       "Pclass           0\n",
       "Name             0\n",
       "Sex              0\n",
       "Age            177\n",
       "SibSp            0\n",
       "Parch            0\n",
       "Ticket           0\n",
       "Fare             0\n",
       "Cabin          687\n",
       "Embarked         2\n",
       "dtype: int64"
      ]
     },
     "execution_count": 4,
     "metadata": {},
     "output_type": "execute_result"
    }
   ],
   "source": [
    "data.isnull().sum()"
   ]
  },
  {
   "cell_type": "code",
   "execution_count": 5,
   "id": "fe109ab9",
   "metadata": {
    "execution": {
     "iopub.execute_input": "2022-07-15T18:22:23.812564Z",
     "iopub.status.busy": "2022-07-15T18:22:23.811998Z",
     "iopub.status.idle": "2022-07-15T18:22:24.098680Z",
     "shell.execute_reply": "2022-07-15T18:22:24.097694Z"
    },
    "papermill": {
     "duration": 0.294807,
     "end_time": "2022-07-15T18:22:24.100770",
     "exception": false,
     "start_time": "2022-07-15T18:22:23.805963",
     "status": "completed"
    },
    "tags": []
   },
   "outputs": [
    {
     "data": {
      "image/png": "[encoded data removed]",
      "text/plain": [
       "<Figure size 1296x576 with 2 Axes>"
      ]
     },
     "metadata": {
      "needs_background": "light"
     },
     "output_type": "display_data"
    }
   ],
   "source": [
    "f,ax = plt.subplots(1, 2, figsize=(18, 8))\n",
    "data['Survived'].value_counts().plot.pie(explode=[0, 0.1],autopct='%1.1f%%', ax=ax[0], shadow=True)\n",
    "ax[0].set_title('Survived')\n",
    "ax[0].set_ylabel('')\n",
    "sns.countplot('Survived', data=data, ax=ax[1])\n",
    "ax[1].set_title('Survived')\n",
    "plt.show()"
   ]
  },
  {
   "cell_type": "code",
   "execution_count": 6,
   "id": "96a53cbd",
   "metadata": {
    "execution": {
     "iopub.execute_input": "2022-07-15T18:22:24.113519Z",
     "iopub.status.busy": "2022-07-15T18:22:24.113156Z",
     "iopub.status.idle": "2022-07-15T18:22:24.122332Z",
     "shell.execute_reply": "2022-07-15T18:22:24.121363Z"
    },
    "papermill": {
     "duration": 0.018002,
     "end_time": "2022-07-15T18:22:24.124281",
     "exception": false,
     "start_time": "2022-07-15T18:22:24.106279",
     "status": "completed"
    },
    "tags": []
   },
   "outputs": [
    {
     "data": {
      "text/plain": [
       "Sex     Survived\n",
       "female  0            81\n",
       "        1           233\n",
       "male    0           468\n",
       "        1           109\n",
       "Name: Survived, dtype: int64"
      ]
     },
     "execution_count": 6,
     "metadata": {},
     "output_type": "execute_result"
    }
   ],
   "source": [
    "data.groupby(['Sex', 'Survived'])['Survived'].count()"
   ]
  },
  {
   "cell_type": "code",
   "execution_count": 7,
   "id": "6c5f6b0b",
   "metadata": {
    "execution": {
     "iopub.execute_input": "2022-07-15T18:22:24.133640Z",
     "iopub.status.busy": "2022-07-15T18:22:24.133301Z",
     "iopub.status.idle": "2022-07-15T18:22:24.386454Z",
     "shell.execute_reply": "2022-07-15T18:22:24.385647Z"
    },
    "papermill": {
     "duration": 0.260376,
     "end_time": "2022-07-15T18:22:24.388511",
     "exception": false,
     "start_time": "2022-07-15T18:22:24.128135",
     "status": "completed"
    },
    "tags": []
   },
   "outputs": [
    {
     "data": {
      "image/png": "[encoded data removed]",
      "text/plain": [
       "<Figure size 1296x576 with 2 Axes>"
      ]
     },
     "metadata": {
      "needs_background": "light"
     },
     "output_type": "display_data"
    }
   ],
   "source": [
    "f, ax = plt.subplots(1, 2, figsize=(18, 8))\n",
    "data[['Sex', 'Survived']].groupby(['Sex']).mean().plot.bar(ax=ax[0])\n",
    "ax[0].set_title('Survived vs Sex')\n",
    "sns.countplot('Sex', hue='Survived', data=data,ax=ax[1])\n",
    "ax[1].set_title('Sex:Survived vs Dead')\n",
    "plt.show()"
   ]
  },
  {
   "cell_type": "code",
   "execution_count": 8,
   "id": "79395119",
   "metadata": {
    "execution": {
     "iopub.execute_input": "2022-07-15T18:22:24.402163Z",
     "iopub.status.busy": "2022-07-15T18:22:24.401543Z",
     "iopub.status.idle": "2022-07-15T18:22:24.515611Z",
     "shell.execute_reply": "2022-07-15T18:22:24.514268Z"
    },
    "papermill": {
     "duration": 0.123845,
     "end_time": "2022-07-15T18:22:24.518323",
     "exception": false,
     "start_time": "2022-07-15T18:22:24.394478",
     "status": "completed"
    },
    "tags": []
   },
   "outputs": [
    {
     "data": {
      "text/html": [
       "<style type=\"text/css\">\n",
       "#T_6dd08_row0_col0, #T_6dd08_row1_col1, #T_6dd08_row1_col2 {\n",
       "  background-color: #ffff66;\n",
       "  color: #000000;\n",
       "}\n",
       "#T_6dd08_row0_col1 {\n",
       "  background-color: #cee666;\n",
       "  color: #000000;\n",
       "}\n",
       "#T_6dd08_row0_col2 {\n",
       "  background-color: #f4fa66;\n",
       "  color: #000000;\n",
       "}\n",
       "#T_6dd08_row1_col0 {\n",
       "  background-color: #f6fa66;\n",
       "  color: #000000;\n",
       "}\n",
       "#T_6dd08_row2_col0 {\n",
       "  background-color: #60b066;\n",
       "  color: #f1f1f1;\n",
       "}\n",
       "#T_6dd08_row2_col1 {\n",
       "  background-color: #dfef66;\n",
       "  color: #000000;\n",
       "}\n",
       "#T_6dd08_row2_col2 {\n",
       "  background-color: #90c866;\n",
       "  color: #000000;\n",
       "}\n",
       "#T_6dd08_row3_col0, #T_6dd08_row3_col1, #T_6dd08_row3_col2 {\n",
       "  background-color: #008066;\n",
       "  color: #f1f1f1;\n",
       "}\n",
       "</style>\n",
       "<table id=\"T_6dd08_\">\n",
       "  <thead>\n",
       "    <tr>\n",
       "      <th class=\"index_name level0\" >Survived</th>\n",
       "      <th class=\"col_heading level0 col0\" >0</th>\n",
       "      <th class=\"col_heading level0 col1\" >1</th>\n",
       "      <th class=\"col_heading level0 col2\" >All</th>\n",
       "    </tr>\n",
       "    <tr>\n",
       "      <th class=\"index_name level0\" >Pclass</th>\n",
       "      <th class=\"blank col0\" >&nbsp;</th>\n",
       "      <th class=\"blank col1\" >&nbsp;</th>\n",
       "      <th class=\"blank col2\" >&nbsp;</th>\n",
       "    </tr>\n",
       "  </thead>\n",
       "  <tbody>\n",
       "    <tr>\n",
       "      <th id=\"T_6dd08_level0_row0\" class=\"row_heading level0 row0\" >1</th>\n",
       "      <td id=\"T_6dd08_row0_col0\" class=\"data row0 col0\" >80</td>\n",
       "      <td id=\"T_6dd08_row0_col1\" class=\"data row0 col1\" >136</td>\n",
       "      <td id=\"T_6dd08_row0_col2\" class=\"data row0 col2\" >216</td>\n",
       "    </tr>\n",
       "    <tr>\n",
       "      <th id=\"T_6dd08_level0_row1\" class=\"row_heading level0 row1\" >2</th>\n",
       "      <td id=\"T_6dd08_row1_col0\" class=\"data row1 col0\" >97</td>\n",
       "      <td id=\"T_6dd08_row1_col1\" class=\"data row1 col1\" >87</td>\n",
       "      <td id=\"T_6dd08_row1_col2\" class=\"data row1 col2\" >184</td>\n",
       "    </tr>\n",
       "    <tr>\n",
       "      <th id=\"T_6dd08_level0_row2\" class=\"row_heading level0 row2\" >3</th>\n",
       "      <td id=\"T_6dd08_row2_col0\" class=\"data row2 col0\" >372</td>\n",
       "      <td id=\"T_6dd08_row2_col1\" class=\"data row2 col1\" >119</td>\n",
       "      <td id=\"T_6dd08_row2_col2\" class=\"data row2 col2\" >491</td>\n",
       "    </tr>\n",
       "    <tr>\n",
       "      <th id=\"T_6dd08_level0_row3\" class=\"row_heading level0 row3\" >All</th>\n",
       "      <td id=\"T_6dd08_row3_col0\" class=\"data row3 col0\" >549</td>\n",
       "      <td id=\"T_6dd08_row3_col1\" class=\"data row3 col1\" >342</td>\n",
       "      <td id=\"T_6dd08_row3_col2\" class=\"data row3 col2\" >891</td>\n",
       "    </tr>\n",
       "  </tbody>\n",
       "</table>\n"
      ],
      "text/plain": [
       "<pandas.io.formats.style.Styler at 0x7f1b53c61c90>"
      ]
     },
     "execution_count": 8,
     "metadata": {},
     "output_type": "execute_result"
    }
   ],
   "source": [
    "pd.crosstab(data.Pclass, data.Survived, margins=True).style.background_gradient(cmap='summer_r')"
   ]
  },
  {
   "cell_type": "code",
   "execution_count": 9,
   "id": "284c1b78",
   "metadata": {
    "execution": {
     "iopub.execute_input": "2022-07-15T18:22:24.532534Z",
     "iopub.status.busy": "2022-07-15T18:22:24.532192Z",
     "iopub.status.idle": "2022-07-15T18:22:24.813620Z",
     "shell.execute_reply": "2022-07-15T18:22:24.812057Z"
    },
    "papermill": {
     "duration": 0.291091,
     "end_time": "2022-07-15T18:22:24.815835",
     "exception": false,
     "start_time": "2022-07-15T18:22:24.524744",
     "status": "completed"
    },
    "tags": []
   },
   "outputs": [
    {
     "data": {
      "image/png": "[encoded data removed]",
      "text/plain": [
       "<Figure size 1296x576 with 2 Axes>"
      ]
     },
     "metadata": {
      "needs_background": "light"
     },
     "output_type": "display_data"
    }
   ],
   "source": [
    "f, ax = plt.subplots(1, 2, figsize=(18, 8))\n",
    "data['Pclass'].value_counts().plot.bar(color=['#CD7F32', '#FFDF00', '#D3D3D3'], ax=ax[0])\n",
    "ax[0].set_title('Number Of Passengers By Pclass')\n",
    "ax[0].set_ylabel('Count')\n",
    "sns.countplot('Pclass', hue='Survived', data=data, ax=ax[1])\n",
    "ax[1].set_title('Pclass:Survived vs Dead')\n",
    "plt.show()"
   ]
  },
  {
   "cell_type": "code",
   "execution_count": 10,
   "id": "18a07f88",
   "metadata": {
    "execution": {
     "iopub.execute_input": "2022-07-15T18:22:24.830436Z",
     "iopub.status.busy": "2022-07-15T18:22:24.830093Z",
     "iopub.status.idle": "2022-07-15T18:22:24.877830Z",
     "shell.execute_reply": "2022-07-15T18:22:24.877132Z"
    },
    "papermill": {
     "duration": 0.057915,
     "end_time": "2022-07-15T18:22:24.880321",
     "exception": false,
     "start_time": "2022-07-15T18:22:24.822406",
     "status": "completed"
    },
    "tags": []
   },
   "outputs": [
    {
     "data": {
      "text/html": [
       "<style type=\"text/css\">\n",
       "#T_f35a5_row0_col0, #T_f35a5_row0_col1, #T_f35a5_row0_col3, #T_f35a5_row3_col2 {\n",
       "  background-color: #ffff66;\n",
       "  color: #000000;\n",
       "}\n",
       "#T_f35a5_row0_col2, #T_f35a5_row1_col2 {\n",
       "  background-color: #f1f866;\n",
       "  color: #000000;\n",
       "}\n",
       "#T_f35a5_row1_col0 {\n",
       "  background-color: #96cb66;\n",
       "  color: #000000;\n",
       "}\n",
       "#T_f35a5_row1_col1 {\n",
       "  background-color: #a3d166;\n",
       "  color: #000000;\n",
       "}\n",
       "#T_f35a5_row1_col3 {\n",
       "  background-color: #cfe766;\n",
       "  color: #000000;\n",
       "}\n",
       "#T_f35a5_row2_col0 {\n",
       "  background-color: #a7d366;\n",
       "  color: #000000;\n",
       "}\n",
       "#T_f35a5_row2_col1, #T_f35a5_row2_col3 {\n",
       "  background-color: #85c266;\n",
       "  color: #000000;\n",
       "}\n",
       "#T_f35a5_row2_col2 {\n",
       "  background-color: #6eb666;\n",
       "  color: #f1f1f1;\n",
       "}\n",
       "#T_f35a5_row3_col0 {\n",
       "  background-color: #cde666;\n",
       "  color: #000000;\n",
       "}\n",
       "#T_f35a5_row3_col1 {\n",
       "  background-color: #f0f866;\n",
       "  color: #000000;\n",
       "}\n",
       "#T_f35a5_row3_col3 {\n",
       "  background-color: #f7fb66;\n",
       "  color: #000000;\n",
       "}\n",
       "#T_f35a5_row4_col0, #T_f35a5_row4_col1, #T_f35a5_row4_col2, #T_f35a5_row4_col3 {\n",
       "  background-color: #008066;\n",
       "  color: #f1f1f1;\n",
       "}\n",
       "</style>\n",
       "<table id=\"T_f35a5_\">\n",
       "  <thead>\n",
       "    <tr>\n",
       "      <th class=\"blank\" >&nbsp;</th>\n",
       "      <th class=\"index_name level0\" >Pclass</th>\n",
       "      <th class=\"col_heading level0 col0\" >1</th>\n",
       "      <th class=\"col_heading level0 col1\" >2</th>\n",
       "      <th class=\"col_heading level0 col2\" >3</th>\n",
       "      <th class=\"col_heading level0 col3\" >All</th>\n",
       "    </tr>\n",
       "    <tr>\n",
       "      <th class=\"index_name level0\" >Sex</th>\n",
       "      <th class=\"index_name level1\" >Survived</th>\n",
       "      <th class=\"blank col0\" >&nbsp;</th>\n",
       "      <th class=\"blank col1\" >&nbsp;</th>\n",
       "      <th class=\"blank col2\" >&nbsp;</th>\n",
       "      <th class=\"blank col3\" >&nbsp;</th>\n",
       "    </tr>\n",
       "  </thead>\n",
       "  <tbody>\n",
       "    <tr>\n",
       "      <th id=\"T_f35a5_level0_row0\" class=\"row_heading level0 row0\" rowspan=\"2\">female</th>\n",
       "      <th id=\"T_f35a5_level1_row0\" class=\"row_heading level1 row0\" >0</th>\n",
       "      <td id=\"T_f35a5_row0_col0\" class=\"data row0 col0\" >3</td>\n",
       "      <td id=\"T_f35a5_row0_col1\" class=\"data row0 col1\" >6</td>\n",
       "      <td id=\"T_f35a5_row0_col2\" class=\"data row0 col2\" >72</td>\n",
       "      <td id=\"T_f35a5_row0_col3\" class=\"data row0 col3\" >81</td>\n",
       "    </tr>\n",
       "    <tr>\n",
       "      <th id=\"T_f35a5_level1_row1\" class=\"row_heading level1 row1\" >1</th>\n",
       "      <td id=\"T_f35a5_row1_col0\" class=\"data row1 col0\" >91</td>\n",
       "      <td id=\"T_f35a5_row1_col1\" class=\"data row1 col1\" >70</td>\n",
       "      <td id=\"T_f35a5_row1_col2\" class=\"data row1 col2\" >72</td>\n",
       "      <td id=\"T_f35a5_row1_col3\" class=\"data row1 col3\" >233</td>\n",
       "    </tr>\n",
       "    <tr>\n",
       "      <th id=\"T_f35a5_level0_row2\" class=\"row_heading level0 row2\" rowspan=\"2\">male</th>\n",
       "      <th id=\"T_f35a5_level1_row2\" class=\"row_heading level1 row2\" >0</th>\n",
       "      <td id=\"T_f35a5_row2_col0\" class=\"data row2 col0\" >77</td>\n",
       "      <td id=\"T_f35a5_row2_col1\" class=\"data row2 col1\" >91</td>\n",
       "      <td id=\"T_f35a5_row2_col2\" class=\"data row2 col2\" >300</td>\n",
       "      <td id=\"T_f35a5_row2_col3\" class=\"data row2 col3\" >468</td>\n",
       "    </tr>\n",
       "    <tr>\n",
       "      <th id=\"T_f35a5_level1_row3\" class=\"row_heading level1 row3\" >1</th>\n",
       "      <td id=\"T_f35a5_row3_col0\" class=\"data row3 col0\" >45</td>\n",
       "      <td id=\"T_f35a5_row3_col1\" class=\"data row3 col1\" >17</td>\n",
       "      <td id=\"T_f35a5_row3_col2\" class=\"data row3 col2\" >47</td>\n",
       "      <td id=\"T_f35a5_row3_col3\" class=\"data row3 col3\" >109</td>\n",
       "    </tr>\n",
       "    <tr>\n",
       "      <th id=\"T_f35a5_level0_row4\" class=\"row_heading level0 row4\" >All</th>\n",
       "      <th id=\"T_f35a5_level1_row4\" class=\"row_heading level1 row4\" ></th>\n",
       "      <td id=\"T_f35a5_row4_col0\" class=\"data row4 col0\" >216</td>\n",
       "      <td id=\"T_f35a5_row4_col1\" class=\"data row4 col1\" >184</td>\n",
       "      <td id=\"T_f35a5_row4_col2\" class=\"data row4 col2\" >491</td>\n",
       "      <td id=\"T_f35a5_row4_col3\" class=\"data row4 col3\" >891</td>\n",
       "    </tr>\n",
       "  </tbody>\n",
       "</table>\n"
      ],
      "text/plain": [
       "<pandas.io.formats.style.Styler at 0x7f1b51ad0b50>"
      ]
     },
     "execution_count": 10,
     "metadata": {},
     "output_type": "execute_result"
    }
   ],
   "source": [
    "pd.crosstab([data.Sex, data.Survived], data.Pclass, margins=True).style.background_gradient(cmap='summer_r')"
   ]
  },
  {
   "cell_type": "code",
   "execution_count": 11,
   "id": "d1788d0e",
   "metadata": {
    "execution": {
     "iopub.execute_input": "2022-07-15T18:22:24.895623Z",
     "iopub.status.busy": "2022-07-15T18:22:24.895296Z",
     "iopub.status.idle": "2022-07-15T18:22:25.383426Z",
     "shell.execute_reply": "2022-07-15T18:22:25.382092Z"
    },
    "papermill": {
     "duration": 0.498153,
     "end_time": "2022-07-15T18:22:25.385464",
     "exception": false,
     "start_time": "2022-07-15T18:22:24.887311",
     "status": "completed"
    },
    "tags": []
   },
   "outputs": [
    {
     "data": {
      "image/png": "[encoded data removed]",
      "text/plain": [
       "<Figure size 430.5x360 with 1 Axes>"
      ]
     },
     "metadata": {
      "needs_background": "light"
     },
     "output_type": "display_data"
    }
   ],
   "source": [
    "sns.factorplot('Pclass', 'Survived', hue='Sex', data=data)\n",
    "plt.show()"
   ]
  },
  {
   "cell_type": "code",
   "execution_count": null,
   "id": "0808092d",
   "metadata": {
    "papermill": {
     "duration": 0.006814,
     "end_time": "2022-07-15T18:22:25.399406",
     "exception": false,
     "start_time": "2022-07-15T18:22:25.392592",
     "status": "completed"
    },
    "tags": []
   },
   "outputs": [],
   "source": []
  }
 ],
 "metadata": {
  "kernelspec": {
   "display_name": "Python 3",
   "language": "python",
   "name": "python3"
  },
  "language_info": {
   "codemirror_mode": {
    "name": "ipython",
    "version": 3
   },
   "file_extension": ".py",
   "mimetype": "text/x-python",
   "name": "python",
   "nbconvert_exporter": "python",
   "pygments_lexer": "ipython3",
   "version": "3.7.12"
  },
  "papermill": {
   "default_parameters": {},
   "duration": 13.256295,
   "end_time": "2022-07-15T18:22:26.227816",
   "environment_variables": {},
   "exception": null,
   "input_path": "__notebook__.ipynb",
   "output_path": "__notebook__.ipynb",
   "parameters": {},
   "start_time": "2022-07-15T18:22:12.971521",
   "version": "2.3.4"
  }
 },
 "nbformat": 4,
 "nbformat_minor": 5
}
